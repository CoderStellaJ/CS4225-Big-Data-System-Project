{
 "cells": [
  {
   "cell_type": "code",
   "execution_count": null,
   "metadata": {},
   "outputs": [],
   "source": [
    "import pandas as pd\n",
    "import urllib.request\n",
    "import tarfile\n",
    "import os\n",
    "import random\n",
    "import time\n",
    "import threading\n",
    "import datetime\n",
    "import logging\n",
    "import copy\n",
    "from IPython.display import clear_output\n",
    "import matplotlib.pyplot as plt\n",
    "from PIL import Image\n",
    "import signal"
   ]
  },
  {
   "cell_type": "code",
   "execution_count": null,
   "metadata": {},
   "outputs": [],
   "source": [
    "data = \"train.csv\"\n",
    "images = pd.read_csv(data)\n",
    "\n",
    "# enter the target directory name\n",
    "directory = \"\"\n",
    "\n",
    "upper = 50\n",
    "lower = 30\n",
    "max_categories = 1066\n",
    "random_state = 1234\n",
    "resize_x = 224\n",
    "resize_y = 224"
   ]
  },
  {
   "cell_type": "code",
   "execution_count": null,
   "metadata": {},
   "outputs": [],
   "source": [
    "def resize(old_path, file, new_path):\n",
    "    if os.path.isfile(os.path.join(old_path, file)):   \n",
    "        try:\n",
    "            img = Image.open(os.path.join(old_path, file))\n",
    "            img.verify()\n",
    "            img = Image.open(os.path.join(old_path, file))\n",
    "            new_img = img.resize((resize_x, resize_y))\n",
    "        except:\n",
    "            print(\"Failed: \", os.path.join(old_path, file))\n",
    "            return False\n",
    "        \n",
    "        if not os.path.exists(new_path):\n",
    "            os.makedirs(new_path)\n",
    "        \n",
    "        new_img.save(os.path.join(new_path, file))\n",
    "        return True\n",
    "    else:\n",
    "        print(\"error opening file: {}\\{}\".format(old_path, file))\n",
    "        return False"
   ]
  },
  {
   "cell_type": "code",
   "execution_count": null,
   "metadata": {},
   "outputs": [],
   "source": [
    "def download(url, path, filename): \n",
    "    if not os.path.exists(path):\n",
    "        os.makedirs(path)\n",
    "    destination = \"{}\\{}\".format(path, filename)\n",
    "    \n",
    "    if os.path.isfile(destination):\n",
    "        print(\"{} already exists\".format(train_location))\n",
    "        return False\n",
    "    \n",
    "    try: \n",
    "        urllib.request.urlretrieve(url, destination)\n",
    "        resize(path, filename, path)\n",
    "        print(\"success: \")\n",
    "        return True\n",
    "    except: \n",
    "        print(\"failed: \")\n",
    "        return False\n",
    "    finally: \n",
    "        print(\"download {} to {}\".format(url, destination))"
   ]
  },
  {
   "cell_type": "code",
   "execution_count": null,
   "metadata": {},
   "outputs": [],
   "source": [
    "def manage_download(selected, backup):\n",
    "    backup_index = 0\n",
    "    for index, row in selected.iterrows():\n",
    "        url = row['url']\n",
    "        path = \"{}\\{}\".format(directory, row['landmark_id'])\n",
    "        filename = \"{}.jpg\".format(row['id'])\n",
    "        \n",
    "        # if download failed, loop through the backup table.\n",
    "        while not download(url, path, filename) and backup_index < len(backup):\n",
    "            url = backup[\"url\"].iloc[backup_index]\n",
    "            path = \"{}\\{}\".format(directory, backup[\"landmark_id\"].iloc[backup_index])\n",
    "            filename = \"{}.jpg\".format(backup[\"id\"].iloc[backup_index])\n",
    "            backup_index += 1 "
   ]
  },
  {
   "cell_type": "code",
   "execution_count": null,
   "metadata": {},
   "outputs": [],
   "source": [
    "# get the number of images under each class.\n",
    "nunique = images.groupby(\"landmark_id\")[\"id\"].nunique()\n",
    "\n",
    "# select the classes with number of images i, where i >= upper.\n",
    "full_categories = nunique[nunique >= upper].sample(max_categories, random_state=random_state)\n",
    "\n",
    "# randomely choose a number of n for each class, where lower < n < upper.\n",
    "full_categories = full_categories.apply(lambda x: random.randint(lower, upper))"
   ]
  },
  {
   "cell_type": "code",
   "execution_count": null,
   "metadata": {},
   "outputs": [],
   "source": [
    "# for each class\n",
    "for c, value in full_categories.iteritems():\n",
    "    print(\"category: {}\".format(c))\n",
    "    target_size = value\n",
    "    \n",
    "    # select the target group of images \n",
    "    matched_images = images[images[\"landmark_id\"] == int(c)]\n",
    "    \n",
    "    # random sampling\n",
    "    selected = matched_images.sample(target_size, random_state=random_state)\n",
    "    \n",
    "    # select the rest images as the back-up in case of failure of downloading. \n",
    "    backup = matched_images[~matched_images['id'].isin(selected['id'])]\n",
    "    manage_download(selected, backup)\n",
    "    \n",
    "    # clear the output.\n",
    "    clear_output(wait=True)"
   ]
  }
 ],
 "metadata": {
  "kernelspec": {
   "display_name": "Python 3",
   "language": "python",
   "name": "python3"
  },
  "language_info": {
   "codemirror_mode": {
    "name": "ipython",
    "version": 3
   },
   "file_extension": ".py",
   "mimetype": "text/x-python",
   "name": "python",
   "nbconvert_exporter": "python",
   "pygments_lexer": "ipython3",
   "version": "3.7.5"
  }
 },
 "nbformat": 4,
 "nbformat_minor": 2
}
