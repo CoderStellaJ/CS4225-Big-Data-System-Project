{
 "cells": [
  {
   "cell_type": "code",
   "execution_count": 2,
   "metadata": {},
   "outputs": [],
   "source": [
    "import pandas as pd\n",
    "import urllib.request\n",
    "import tarfile\n",
    "import os\n",
    "import random\n",
    "import time\n",
    "import threading\n",
    "import datetime\n",
    "import logging\n",
    "import copy\n",
    "from IPython.display import clear_output\n",
    "import matplotlib.pyplot as plt\n",
    "from PIL import Image"
   ]
  },
  {
   "cell_type": "code",
   "execution_count": 3,
   "metadata": {},
   "outputs": [],
   "source": [
    "data = \"train.csv\"\n",
    "images = pd.read_csv(data)\n",
    "\n",
    "# enter the directory to save the images to.\n",
    "directory = \"\"\n",
    "\n",
    "# enter the directory of the training data. \n",
    "train_dir = \"\"\n",
    "\n",
    "upper = 5\n",
    "lower = 3\n",
    "max_categories = 2000\n",
    "num_machines = 5\n",
    "random_state = 1234"
   ]
  },
  {
   "cell_type": "code",
   "execution_count": 4,
   "metadata": {},
   "outputs": [],
   "source": [
    "def resize(sub, file, new_path):\n",
    "    if os.path.isfile(os.path.join(sub, file)):\n",
    "        try:\n",
    "            img = Image.open(os.path.join(sub, file))\n",
    "            img.verify()\n",
    "            img = Image.open(os.path.join(sub, file))\n",
    "            new_img = img.resize((800, 800))\n",
    "        except:\n",
    "            print(\"Failed: \", os.path.join(sub, file))\n",
    "            return False\n",
    "        \n",
    "        if not os.path.exists(new_path):\n",
    "            os.makedirs(new_path)\n",
    "        \n",
    "        new_img.save(os.path.join(new_path, file))\n",
    "        return True\n",
    "    else:\n",
    "        print(\"error opening file: {}\\{}\".format(sub, file))\n",
    "        return False"
   ]
  },
  {
   "cell_type": "code",
   "execution_count": 5,
   "metadata": {},
   "outputs": [],
   "source": [
    "def download(url, path, train_path, filename): \n",
    "    if not os.path.exists(path):\n",
    "        os.makedirs(path)\n",
    "    destination = \"{}\\{}\".format(path, filename)\n",
    "    train_location = '{}\\{}'.format(train_path, filename)\n",
    "    \n",
    "    # if the image already exists in the training data set, return false.\n",
    "    if os.path.isfile(train_location):\n",
    "        print(\"{} already exists\".format(train_location))\n",
    "        return False\n",
    "    \n",
    "    try: \n",
    "        urllib.request.urlretrieve(url, destination)\n",
    "        resize(path, filename, path)\n",
    "        print(\"success: \")\n",
    "        return True\n",
    "    except: \n",
    "    # if download failed, return false.\n",
    "        print(\"failed: \")\n",
    "        return False\n",
    "    finally: \n",
    "        print(\"download {} to {}\".format(url, destination))"
   ]
  },
  {
   "cell_type": "code",
   "execution_count": 6,
   "metadata": {},
   "outputs": [],
   "source": [
    "def manage_download(selected, backup):\n",
    "    backup_index = 0\n",
    "    for index, row in selected.iterrows():\n",
    "        url = row['url']\n",
    "        path = \"{}\\{}\".format(directory, row['landmark_id'])\n",
    "        filename = \"{}.jpg\".format(row['id'])\n",
    "        train_path = '{}\\{}'.format(train_dir, row['landmark_id'])\n",
    "        \n",
    "        while not download(url, path, train_path, filename) and backup_index < len(backup):\n",
    "            url = backup[\"url\"].iloc[backup_index]\n",
    "            path = \"{}\\{}\".format(directory, backup[\"landmark_id\"].iloc[backup_index])\n",
    "            train_path = \"{}\\{}\".format(train_dir, backup[\"landmark_id\"].iloc[backup_index])\n",
    "            filename = \"{}.jpg\".format(backup[\"id\"].iloc[backup_index])\n",
    "            backup_index += 1 "
   ]
  },
  {
   "cell_type": "code",
   "execution_count": 7,
   "metadata": {},
   "outputs": [
    {
     "name": "stdout",
     "output_type": "stream",
     "text": [
      "category: 99851\n",
      "E:\\BigDataNew\\99851\\5648641f420b60b7.jpg already exists\n",
      "success: \n",
      "download https://upload.wikimedia.org/wikipedia/commons/2/24/Die_Geislerspitzen_und_Sankt_Magdalena.jpg to E:\\TestData\\99851\\53a8374a2fb0621f.jpg\n",
      "success: \n",
      "download https://upload.wikimedia.org/wikipedia/commons/f/fa/Ncisles_udu_dal_Col_Raiser_Sas_dla_Porta_Cansles_Duleda_Gherd%C3%ABina.jpg to E:\\TestData\\99851\\c629eccc280f326a.jpg\n",
      "E:\\BigDataNew\\99851\\faf0d70ac1a25cd4.jpg already exists\n",
      "success: \n",
      "download http://upload.wikimedia.org/wikipedia/commons/b/b4/Odles_ududes_da_Funes_5.JPG to E:\\TestData\\99851\\9e345696d94026bb.jpg\n"
     ]
    }
   ],
   "source": [
    "for c in os.listdir(train_dir):\n",
    "    print(\"category: {}\".format(c))\n",
    "    target_size = random.randint(lower, upper)\n",
    "    matched_images = images[images[\"landmark_id\"] == int(c)]\n",
    "    selected = matched_images.sample(target_size, random_state=random_state)\n",
    "    backup = matched_images[~matched_images['id'].isin(selected['id'])]\n",
    "    manage_download(selected, backup)\n",
    "    clear_output(wait=True)"
   ]
  }
 ],
 "metadata": {
  "kernelspec": {
   "display_name": "Python 3",
   "language": "python",
   "name": "python3"
  },
  "language_info": {
   "codemirror_mode": {
    "name": "ipython",
    "version": 3
   },
   "file_extension": ".py",
   "mimetype": "text/x-python",
   "name": "python",
   "nbconvert_exporter": "python",
   "pygments_lexer": "ipython3",
   "version": "3.7.5"
  }
 },
 "nbformat": 4,
 "nbformat_minor": 2
}
